{
 "cells": [
  {
   "cell_type": "code",
   "execution_count": null,
   "id": "7f28c725",
   "metadata": {},
   "outputs": [],
   "source": [
    "from functions import generateQuiz"
   ]
  },
  {
   "cell_type": "code",
   "execution_count": 2,
   "id": "898a1d44",
   "metadata": {},
   "outputs": [
    {
     "data": {
      "text/html": [
       "<tr><th text-align:center\">Selezionare il numero di quesiti che si desidera ricevere.</th></tr>"
      ],
      "text/plain": [
       "<IPython.core.display.HTML object>"
      ]
     },
     "metadata": {},
     "output_type": "display_data"
    },
    {
     "name": "stdout",
     "output_type": "stream",
     "text": [
      "Indicare un numero maggiore di 0\n",
      "2\n"
     ]
    },
    {
     "data": {
      "text/html": [
       "<tr><th text-align:center\">Selezionale la difficoltà</th></tr><tr><td>1)Facile</td><td>2)Normale</td></td></tr>"
      ],
      "text/plain": [
       "<IPython.core.display.HTML object>"
      ]
     },
     "metadata": {},
     "output_type": "display_data"
    },
    {
     "name": "stdout",
     "output_type": "stream",
     "text": [
      "Indicare il numero corrispondente alla difficoltà desiderata\n",
      "1\n"
     ]
    },
    {
     "data": {
      "text/html": [
       "<tr><th style=\"color:red; text-align:center\">Quiz n°1</th></tr><tr><td style=\"text-align:left\">Qual è il paese di produzione del film \"Baby Driver\"?</td></tr><tr><td style='text-align:left'>1) Hungary</td></tr><tr><td style='text-align:left'>2) United Kingdom</td></tr><tr><td style='text-align:left'>3) Serbia and Montenegro</td></tr><tr><td style='text-align:left'>4) Suriname</td></tr>"
      ],
      "text/plain": [
       "<IPython.core.display.HTML object>"
      ]
     },
     "metadata": {},
     "output_type": "display_data"
    },
    {
     "name": "stdout",
     "output_type": "stream",
     "text": [
      "Indicare il numero della risposta desiderata relativamente al quiz n°1\n",
      "2\n"
     ]
    },
    {
     "data": {
      "text/html": [
       "<tr><th style=\"color:red; text-align:center\">Quiz n°2</th></tr><tr><td style=\"text-align:left\">Qual è il paese di produzione del film \"The Hundred-Foot Journey\"?</td></tr><tr><td style='text-align:left'>1) United States</td></tr><tr><td style='text-align:left'>2) Montenegro</td></tr><tr><td style='text-align:left'>3) Dominican Republic</td></tr><tr><td style='text-align:left'>4) Ireland</td></tr>"
      ],
      "text/plain": [
       "<IPython.core.display.HTML object>"
      ]
     },
     "metadata": {},
     "output_type": "display_data"
    },
    {
     "name": "stdout",
     "output_type": "stream",
     "text": [
      "Indicare il numero della risposta desiderata relativamente al quiz n°2\n",
      "3\n",
      "Punteggio: 1/2\n",
      "Risposte date: 2 3 \n",
      "Risposte corrette: 2 1 \n",
      "[2, 1]\n"
     ]
    }
   ],
   "source": [
    "generateQuiz()"
   ]
  },
  {
   "cell_type": "code",
   "execution_count": null,
   "id": "159fef07",
   "metadata": {},
   "outputs": [],
   "source": []
  }
 ],
 "metadata": {
  "kernelspec": {
   "display_name": "Python 3 (ipykernel)",
   "language": "python",
   "name": "python3"
  },
  "language_info": {
   "codemirror_mode": {
    "name": "ipython",
    "version": 3
   },
   "file_extension": ".py",
   "mimetype": "text/x-python",
   "name": "python",
   "nbconvert_exporter": "python",
   "pygments_lexer": "ipython3",
   "version": "3.9.16"
  }
 },
 "nbformat": 4,
 "nbformat_minor": 5
}
