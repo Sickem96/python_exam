{
 "cells": [
  {
   "cell_type": "code",
   "execution_count": 1,
   "id": "7f28c725",
   "metadata": {},
   "outputs": [],
   "source": [
    "from functions import generateQuiz"
   ]
  },
  {
   "cell_type": "code",
   "execution_count": 2,
   "id": "66f60b55",
   "metadata": {},
   "outputs": [
    {
     "data": {
      "text/html": [
       "<tr><th text-align:center\">Inserire la difficoltà del prossimo quesito.</th></tr><tr><td>1)Facile</td><td>2)Normale</td></td></tr>"
      ],
      "text/plain": [
       "<IPython.core.display.HTML object>"
      ]
     },
     "metadata": {},
     "output_type": "display_data"
    },
    {
     "name": "stdout",
     "output_type": "stream",
     "text": [
      "Indicare il numero corrispondente alla difficoltà desiderata\n",
      "1\n"
     ]
    },
    {
     "data": {
      "text/html": [
       "<tr><th style=\"color:red; text-align:center\">Quiz n°1</th></tr><tr><th style=\"text-align:left\">In quale tra i seguenti film ha recitato Mike Brune?</th></tr><tr><td style='text-align:left'>1) The Dark Knight Rises</td></tr><tr><td style='text-align:left'>2) The Wolf of Wall Street</td></tr><tr><td style='text-align:left'>3) Real Steel</td></tr><tr><td style='text-align:left'>4) Before the Flood</td></tr>"
      ],
      "text/plain": [
       "<IPython.core.display.HTML object>"
      ]
     },
     "metadata": {},
     "output_type": "display_data"
    },
    {
     "name": "stdout",
     "output_type": "stream",
     "text": [
      "Indicare il numero della risposta desiderata relativamente al quiz n°1\n",
      "2\n"
     ]
    },
    {
     "data": {
      "text/html": [
       "<tr><th text-align:center\">Inserire la difficoltà del prossimo quesito.</th></tr><tr><td>1)Facile</td><td>2)Normale</td></td></tr>"
      ],
      "text/plain": [
       "<IPython.core.display.HTML object>"
      ]
     },
     "metadata": {},
     "output_type": "display_data"
    },
    {
     "name": "stdout",
     "output_type": "stream",
     "text": [
      "Indicare il numero corrispondente alla difficoltà desiderata\n",
      "1\n"
     ]
    },
    {
     "data": {
      "text/html": [
       "<tr><th style=\"color:red; text-align:center\">Quiz n°2</th></tr><tr><th style=\"text-align:left\">In che anno è stato pubblicato il film \"Cowspiracy: The Sustainability Secret\"?</th></tr><tr><td style='text-align:left'>1) 2010</td></tr><tr><td style='text-align:left'>2) 2019</td></tr><tr><td style='text-align:left'>3) 2014</td></tr><tr><td style='text-align:left'>4) 2073</td></tr>"
      ],
      "text/plain": [
       "<IPython.core.display.HTML object>"
      ]
     },
     "metadata": {},
     "output_type": "display_data"
    },
    {
     "name": "stdout",
     "output_type": "stream",
     "text": [
      "Indicare il numero della risposta desiderata relativamente al quiz n°2\n",
      "3\n"
     ]
    },
    {
     "data": {
      "text/html": [
       "<tr><th text-align:center\">Inserire la difficoltà del prossimo quesito.</th></tr><tr><td>1)Facile</td><td>2)Normale</td></td></tr>"
      ],
      "text/plain": [
       "<IPython.core.display.HTML object>"
      ]
     },
     "metadata": {},
     "output_type": "display_data"
    },
    {
     "name": "stdout",
     "output_type": "stream",
     "text": [
      "Indicare il numero corrispondente alla difficoltà desiderata\n",
      "1\n"
     ]
    },
    {
     "data": {
      "text/html": [
       "<tr><th style=\"color:red; text-align:center\">Quiz n°3</th></tr><tr><th style=\"text-align:left\">In quale tra i seguenti film ha recitato Keri Flaherty?</th></tr><tr><td style='text-align:left'>1) American Made</td></tr><tr><td style='text-align:left'>2) War Horse</td></tr><tr><td style='text-align:left'>3) The Social Network</td></tr><tr><td style='text-align:left'>4) Bridge of Spies</td></tr>"
      ],
      "text/plain": [
       "<IPython.core.display.HTML object>"
      ]
     },
     "metadata": {},
     "output_type": "display_data"
    },
    {
     "name": "stdout",
     "output_type": "stream",
     "text": [
      "Indicare il numero della risposta desiderata relativamente al quiz n°3\n",
      "2\n"
     ]
    },
    {
     "data": {
      "text/html": [
       "<tr><th text-align:center\">Inserire la difficoltà del prossimo quesito.</th></tr><tr><td>1)Facile</td><td>2)Normale</td></td></tr>"
      ],
      "text/plain": [
       "<IPython.core.display.HTML object>"
      ]
     },
     "metadata": {},
     "output_type": "display_data"
    },
    {
     "name": "stdout",
     "output_type": "stream",
     "text": [
      "Indicare il numero corrispondente alla difficoltà desiderata\n",
      "1\n"
     ]
    },
    {
     "data": {
      "text/html": [
       "<tr><th style=\"color:red; text-align:center\">Quiz n°4</th></tr><tr><th style=\"text-align:left\">Quale dei seguenti attori ha recitato nel film \"Cowspiracy: The Sustainability Secret\"?</th></tr><tr><td style='text-align:left'>1) Leonardo DiCaprio</td></tr><tr><td style='text-align:left'>2) Tobey Maguire</td></tr><tr><td style='text-align:left'>3) Matt Damon</td></tr><tr><td style='text-align:left'>4) Cillian Murphy</td></tr>"
      ],
      "text/plain": [
       "<IPython.core.display.HTML object>"
      ]
     },
     "metadata": {},
     "output_type": "display_data"
    },
    {
     "name": "stdout",
     "output_type": "stream",
     "text": [
      "Indicare il numero della risposta desiderata relativamente al quiz n°4\n",
      "4\n"
     ]
    },
    {
     "data": {
      "text/html": [
       "<tr><th text-align:center\">Inserire la difficoltà del prossimo quesito.</th></tr><tr><td>1)Facile</td><td>2)Normale</td></td></tr>"
      ],
      "text/plain": [
       "<IPython.core.display.HTML object>"
      ]
     },
     "metadata": {},
     "output_type": "display_data"
    },
    {
     "name": "stdout",
     "output_type": "stream",
     "text": [
      "Indicare il numero corrispondente alla difficoltà desiderata\n",
      "1\n"
     ]
    },
    {
     "data": {
      "text/html": [
       "<tr><th style=\"color:red; text-align:center\">Quiz n°5</th></tr><tr><th style=\"text-align:left\">In che anno è stato pubblicato il film \"Bridge of Spies\"?</th></tr><tr><td style='text-align:left'>1) 2007</td></tr><tr><td style='text-align:left'>2) 2045</td></tr><tr><td style='text-align:left'>3) 2005</td></tr><tr><td style='text-align:left'>4) 2015</td></tr>"
      ],
      "text/plain": [
       "<IPython.core.display.HTML object>"
      ]
     },
     "metadata": {},
     "output_type": "display_data"
    },
    {
     "name": "stdout",
     "output_type": "stream",
     "text": [
      "Indicare il numero della risposta desiderata relativamente al quiz n°5\n",
      "1\n"
     ]
    },
    {
     "data": {
      "text/html": [
       "<tr><th text-align:center\">Inserire la difficoltà del prossimo quesito.</th></tr><tr><td>1)Facile</td><td>2)Normale</td></td></tr>"
      ],
      "text/plain": [
       "<IPython.core.display.HTML object>"
      ]
     },
     "metadata": {},
     "output_type": "display_data"
    },
    {
     "name": "stdout",
     "output_type": "stream",
     "text": [
      "Indicare il numero corrispondente alla difficoltà desiderata\n",
      "1\n"
     ]
    },
    {
     "data": {
      "text/html": [
       "<tr><th style=\"color:red; text-align:center\">Quiz n°6</th></tr><tr><th style=\"text-align:left\">Quale dei seguenti attori ha recitato nel film \"Live by Night\"?</th></tr><tr><td style='text-align:left'>1) Cillian Murphy</td></tr><tr><td style='text-align:left'>2) Leonardo DiCaprio</td></tr><tr><td style='text-align:left'>3) Anne Hathaway</td></tr><tr><td style='text-align:left'>4) Ben Affleck</td></tr>"
      ],
      "text/plain": [
       "<IPython.core.display.HTML object>"
      ]
     },
     "metadata": {},
     "output_type": "display_data"
    },
    {
     "name": "stdout",
     "output_type": "stream",
     "text": [
      "Indicare il numero della risposta desiderata relativamente al quiz n°6\n",
      "1\n"
     ]
    },
    {
     "data": {
      "text/html": [
       "<tr><th text-align:center\">Inserire la difficoltà del prossimo quesito.</th></tr><tr><td>1)Facile</td><td>2)Normale</td></td></tr>"
      ],
      "text/plain": [
       "<IPython.core.display.HTML object>"
      ]
     },
     "metadata": {},
     "output_type": "display_data"
    },
    {
     "name": "stdout",
     "output_type": "stream",
     "text": [
      "Indicare il numero corrispondente alla difficoltà desiderata\n",
      "1\n"
     ]
    },
    {
     "data": {
      "text/html": [
       "<tr><th style=\"color:red; text-align:center\">Quiz n°7</th></tr><tr><th style=\"text-align:left\">In quale tra i seguenti film ha recitato Mary Anzalone?</th></tr><tr><td style='text-align:left'>1) Captain Phillips</td></tr><tr><td style='text-align:left'>2) True Grit</td></tr><tr><td style='text-align:left'>3) Mission: Impossible - Rogue Nation</td></tr><tr><td style='text-align:left'>4) The Great Gatsby</td></tr>"
      ],
      "text/plain": [
       "<IPython.core.display.HTML object>"
      ]
     },
     "metadata": {},
     "output_type": "display_data"
    },
    {
     "name": "stdout",
     "output_type": "stream",
     "text": [
      "Indicare il numero della risposta desiderata relativamente al quiz n°7\n",
      "3\n"
     ]
    },
    {
     "data": {
      "text/html": [
       "<tr><th text-align:center\">Inserire la difficoltà del prossimo quesito.</th></tr><tr><td>1)Facile</td><td>2)Normale</td></td></tr>"
      ],
      "text/plain": [
       "<IPython.core.display.HTML object>"
      ]
     },
     "metadata": {},
     "output_type": "display_data"
    },
    {
     "name": "stdout",
     "output_type": "stream",
     "text": [
      "Indicare il numero corrispondente alla difficoltà desiderata\n",
      "2\n"
     ]
    },
    {
     "data": {
      "text/html": [
       "<tr><th style=\"color:red; text-align:center\">Quiz n°8</th></tr><tr><th style=\"text-align:left\">In quale tra i seguenti film ha recitato Ruben Dario Cruz II?</th></tr><tr><td style='text-align:left'>1) The Dark Knight Rises</td></tr><tr><td style='text-align:left'>2) Bernie</td></tr><tr><td style='text-align:left'>3) I'm Still Here</td></tr><tr><td style='text-align:left'>4) Rock of Ages</td></tr>"
      ],
      "text/plain": [
       "<IPython.core.display.HTML object>"
      ]
     },
     "metadata": {},
     "output_type": "display_data"
    },
    {
     "name": "stdout",
     "output_type": "stream",
     "text": [
      "Indicare il numero della risposta desiderata relativamente al quiz n°8\n",
      "3\n"
     ]
    },
    {
     "data": {
      "text/html": [
       "<tr><th text-align:center\">Inserire la difficoltà del prossimo quesito.</th></tr><tr><td>1)Facile</td><td>2)Normale</td></td></tr>"
      ],
      "text/plain": [
       "<IPython.core.display.HTML object>"
      ]
     },
     "metadata": {},
     "output_type": "display_data"
    },
    {
     "name": "stdout",
     "output_type": "stream",
     "text": [
      "Indicare il numero corrispondente alla difficoltà desiderata\n",
      "1\n"
     ]
    },
    {
     "data": {
      "text/html": [
       "<tr><th style=\"color:red; text-align:center\">Quiz n°9</th></tr><tr><th style=\"text-align:left\">In che anno è stato pubblicato il film \"The Pacific\"?</th></tr><tr><td style='text-align:left'>1) 2010</td></tr><tr><td style='text-align:left'>2) 2017</td></tr><tr><td style='text-align:left'>3) 2016</td></tr><tr><td style='text-align:left'>4) 1972</td></tr>"
      ],
      "text/plain": [
       "<IPython.core.display.HTML object>"
      ]
     },
     "metadata": {},
     "output_type": "display_data"
    },
    {
     "name": "stdout",
     "output_type": "stream",
     "text": [
      "Indicare il numero della risposta desiderata relativamente al quiz n°9\n",
      "1\n"
     ]
    },
    {
     "data": {
      "text/html": [
       "<tr><th text-align:center\">Inserire la difficoltà del prossimo quesito.</th></tr><tr><td>1)Facile</td><td>2)Normale</td></td></tr>"
      ],
      "text/plain": [
       "<IPython.core.display.HTML object>"
      ]
     },
     "metadata": {},
     "output_type": "display_data"
    },
    {
     "name": "stdout",
     "output_type": "stream",
     "text": [
      "Indicare il numero corrispondente alla difficoltà desiderata\n",
      "1\n"
     ]
    },
    {
     "data": {
      "text/html": [
       "<tr><th style=\"color:red; text-align:center\">Quiz n°10</th></tr><tr><th style=\"text-align:left\">In che anno è stato pubblicato il film \"The Smile Man\"?</th></tr><tr><td style='text-align:left'>1) 2016</td></tr><tr><td style='text-align:left'>2) 2019</td></tr><tr><td style='text-align:left'>3) 2024</td></tr><tr><td style='text-align:left'>4) 2013</td></tr>"
      ],
      "text/plain": [
       "<IPython.core.display.HTML object>"
      ]
     },
     "metadata": {},
     "output_type": "display_data"
    },
    {
     "name": "stdout",
     "output_type": "stream",
     "text": [
      "Indicare il numero della risposta desiderata relativamente al quiz n°10\n",
      "4\n"
     ]
    },
    {
     "data": {
      "text/html": [
       "<tr><th text-align:center\">Inserire la difficoltà del prossimo quesito.</th></tr><tr><td>1)Facile</td><td>2)Normale</td></td></tr>"
      ],
      "text/plain": [
       "<IPython.core.display.HTML object>"
      ]
     },
     "metadata": {},
     "output_type": "display_data"
    },
    {
     "name": "stdout",
     "output_type": "stream",
     "text": [
      "Indicare il numero corrispondente alla difficoltà desiderata\n",
      "1\n"
     ]
    },
    {
     "data": {
      "text/html": [
       "<tr><th style=\"color:red; text-align:center\">Quiz n°11</th></tr><tr><th style=\"text-align:left\">In che anno è stato pubblicato il film \"Curmudgeons\"?</th></tr><tr><td style='text-align:left'>1) 1954</td></tr><tr><td style='text-align:left'>2) 2016</td></tr><tr><td style='text-align:left'>3) 2012</td></tr><tr><td style='text-align:left'>4) 2018</td></tr>"
      ],
      "text/plain": [
       "<IPython.core.display.HTML object>"
      ]
     },
     "metadata": {},
     "output_type": "display_data"
    },
    {
     "name": "stdout",
     "output_type": "stream",
     "text": [
      "Indicare il numero della risposta desiderata relativamente al quiz n°11\n",
      "2\n"
     ]
    },
    {
     "data": {
      "text/html": [
       "<tr><th text-align:center\">Inserire la difficoltà del prossimo quesito.</th></tr><tr><td>1)Facile</td><td>2)Normale</td></td></tr>"
      ],
      "text/plain": [
       "<IPython.core.display.HTML object>"
      ]
     },
     "metadata": {},
     "output_type": "display_data"
    },
    {
     "name": "stdout",
     "output_type": "stream",
     "text": [
      "Indicare il numero corrispondente alla difficoltà desiderata\n",
      "\n",
      "Input non valido, inserire un numero tra 1 e 2.\n",
      "Indicare il numero corrispondente alla difficoltà desiderata\n",
      "31\n",
      "Inserire un numero tra 1 e 2.\n",
      "Indicare il numero corrispondente alla difficoltà desiderata\n",
      "3\n",
      "Inserire un numero tra 1 e 2.\n",
      "Indicare il numero corrispondente alla difficoltà desiderata\n",
      "2\n"
     ]
    },
    {
     "data": {
      "text/html": [
       "<tr><th style=\"color:red; text-align:center\">Quiz n°12</th></tr><tr><th style=\"text-align:left\">In quale tra i seguenti film ha recitato Michael Haase?</th></tr><tr><td style='text-align:left'>1) Safe</td></tr><tr><td style='text-align:left'>2) Billionaire Boys Club</td></tr><tr><td style='text-align:left'>3) Men in Black 3</td></tr><tr><td style='text-align:left'>4) Batman v Superman: Dawn of Justice</td></tr>"
      ],
      "text/plain": [
       "<IPython.core.display.HTML object>"
      ]
     },
     "metadata": {},
     "output_type": "display_data"
    },
    {
     "name": "stdout",
     "output_type": "stream",
     "text": [
      "Indicare il numero della risposta desiderata relativamente al quiz n°12\n",
      "2\n",
      "Risposte date: 2 3 2 4 1 1 3 3 1 4 2 2 \n",
      "Risposte corrette: 4 3 4 1 4 4 2 1 1 4 2 4 \n",
      "Punteggio: 2.0/7.0\n"
     ]
    }
   ],
   "source": [
    "generateQuiz(12)"
   ]
  }
 ],
 "metadata": {
  "kernelspec": {
   "display_name": "Python 3 (ipykernel)",
   "language": "python",
   "name": "python3"
  },
  "language_info": {
   "codemirror_mode": {
    "name": "ipython",
    "version": 3
   },
   "file_extension": ".py",
   "mimetype": "text/x-python",
   "name": "python",
   "nbconvert_exporter": "python",
   "pygments_lexer": "ipython3",
   "version": "3.9.16"
  }
 },
 "nbformat": 4,
 "nbformat_minor": 5
}
