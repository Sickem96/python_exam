{
 "cells": [
  {
   "cell_type": "code",
   "execution_count": 1,
   "id": "7f28c725",
   "metadata": {},
   "outputs": [],
   "source": [
    "from functions import generateQuiz"
   ]
  },
  {
   "cell_type": "code",
   "execution_count": null,
   "id": "16c64649",
   "metadata": {},
   "outputs": [
    {
     "data": {
      "text/html": [
       "<tr><th text-align:center\">Inserire la difficoltà del prossimo quesito.</th></tr><tr><td>1)Facile</td><td>2)Normale</td></td></tr>"
      ],
      "text/plain": [
       "<IPython.core.display.HTML object>"
      ]
     },
     "metadata": {},
     "output_type": "display_data"
    },
    {
     "name": "stdout",
     "output_type": "stream",
     "text": [
      "Indicare il numero corrispondente alla difficoltà desiderata\n",
      "1\n"
     ]
    },
    {
     "data": {
      "text/html": [
       "<tr><th style=\"color:red; text-align:center\">Quiz n°1</th></tr><tr><th style=\"text-align:left\">In quale paese o gruppo di paesi è stato girato il film \"Skin Deep\"?</th></tr><tr><td style='text-align:left'>1) United Kingdom.</td></tr><tr><td style='text-align:left'>2) Canada.</td></tr><tr><td style='text-align:left'>3) Australia.</td></tr><tr><td style='text-align:left'>4) United States.</td></tr>"
      ],
      "text/plain": [
       "<IPython.core.display.HTML object>"
      ]
     },
     "metadata": {},
     "output_type": "display_data"
    },
    {
     "name": "stdout",
     "output_type": "stream",
     "text": [
      "Indicare il numero della risposta desiderata relativamente al quiz n°1\n",
      "4\n"
     ]
    },
    {
     "data": {
      "text/html": [
       "<tr><th text-align:center\">Inserire la difficoltà del prossimo quesito.</th></tr><tr><td>1)Facile</td><td>2)Normale</td></td></tr>"
      ],
      "text/plain": [
       "<IPython.core.display.HTML object>"
      ]
     },
     "metadata": {},
     "output_type": "display_data"
    },
    {
     "name": "stdout",
     "output_type": "stream",
     "text": [
      "Indicare il numero corrispondente alla difficoltà desiderata\n",
      "1\n"
     ]
    },
    {
     "data": {
      "text/html": [
       "<tr><th style=\"color:red; text-align:center\">Quiz n°2</th></tr><tr><th style=\"text-align:left\">In quale tra i seguenti film ha recitato John Taylor?</th></tr><tr><td style='text-align:left'>1) Mission: Impossible - Rogue Nation</td></tr><tr><td style='text-align:left'>2) The Dark Knight Rises</td></tr><tr><td style='text-align:left'>3) Bridge of Spies</td></tr><tr><td style='text-align:left'>4) The Social Network</td></tr>"
      ],
      "text/plain": [
       "<IPython.core.display.HTML object>"
      ]
     },
     "metadata": {},
     "output_type": "display_data"
    }
   ],
   "source": [
    "generateQuiz()"
   ]
  }
 ],
 "metadata": {
  "kernelspec": {
   "display_name": "Python 3 (ipykernel)",
   "language": "python",
   "name": "python3"
  },
  "language_info": {
   "codemirror_mode": {
    "name": "ipython",
    "version": 3
   },
   "file_extension": ".py",
   "mimetype": "text/x-python",
   "name": "python",
   "nbconvert_exporter": "python",
   "pygments_lexer": "ipython3",
   "version": "3.9.16"
  }
 },
 "nbformat": 4,
 "nbformat_minor": 5
}
